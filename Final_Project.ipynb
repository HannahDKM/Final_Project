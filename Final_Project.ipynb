{
 "cells": [
  {
   "cell_type": "markdown",
   "metadata": {},
   "source": [
    "DSCI 100 004\n",
    "\n",
    "Laura Flannigan, Kaitlyn Harvie, Hannah Morstead, & Tony Tang "
   ]
  },
  {
   "cell_type": "markdown",
   "metadata": {},
   "source": [
    "<p style = \"font-size:22pt\"> Predicting Heart Disease from Multiple Demographic and Risk Factors Variables </p>"
   ]
  },
  {
   "cell_type": "markdown",
   "metadata": {},
   "source": [
    " **<p style = \"font-size:18pt; font-style:bold\"> Introduction </p>**"
   ]
  },
  {
   "cell_type": "markdown",
   "metadata": {},
   "source": [
    "According to the World Health Organization, the leading cause of death worldwide is cardiovascular diseases (2021). However, heart disorders can be preventable, as research has revealed various risk factors in the development of heart disease. Yusuf et al. (2001) suggested that high blood pressure and increased LDL cholesterol levels show causal links to cardiovascular disease. Additionally, the presence of chest pain has been found to be associated with increased risk of long-term cardiovascular disease (Robson et al., 2015), as well as ECG abnormalities which are suggestive of an increased risk of heart disease (Whincup, 1995). Other variables, such as gender and age, contribute to risk factors (Maas & Appelman, 2010).\n",
    "\n",
    "Using the processed Cleveland Heart Disease dataset from the Cleveland Clinic Foundation (Detrano, 1989), obtained from the UCI Machine Learning Repository, we will determine how accurately a K-Nearest Neighbors classification model correctly predicts the presence of a heart disease diagnosis for a new, unknown observation. The data set contains 303 observations collected from individuals undergoing angiography. The classification algorithm will use the following predictor varibles, selected from the original data set: age, sex, chest pain type, resting blood pressure, blood cholesterol levels, resting ECG results, and presence of exercise-indudced angina."
   ]
  },
  {
   "cell_type": "markdown",
   "metadata": {},
   "source": [
    "**<p style = \"font-size:18pt; font-style:bold\"> Preliminary Exploratory Data Analysis </p>**"
   ]
  },
  {
   "cell_type": "markdown",
   "metadata": {},
   "source": [
    "To begin, the seed is set to ensure the model is reproducible. Required libaries are loaded and the Cleveland Heart Disease data set is read in — ensuring approporate and readable column names. The response variable (diagnosis) is mutated as a factor variable type to allow for future classification of unknown observations. "
   ]
  },
  {
   "cell_type": "code",
   "execution_count": 2,
   "metadata": {},
   "outputs": [
    {
     "name": "stderr",
     "output_type": "stream",
     "text": [
      "── \u001b[1mAttaching packages\u001b[22m ─────────────────────────────────────── tidyverse 1.3.0 ──\n",
      "\n",
      "\u001b[32m✔\u001b[39m \u001b[34mggplot2\u001b[39m 3.3.2     \u001b[32m✔\u001b[39m \u001b[34mpurrr  \u001b[39m 0.3.4\n",
      "\u001b[32m✔\u001b[39m \u001b[34mtibble \u001b[39m 3.0.3     \u001b[32m✔\u001b[39m \u001b[34mdplyr  \u001b[39m 1.0.2\n",
      "\u001b[32m✔\u001b[39m \u001b[34mtidyr  \u001b[39m 1.1.2     \u001b[32m✔\u001b[39m \u001b[34mstringr\u001b[39m 1.4.0\n",
      "\u001b[32m✔\u001b[39m \u001b[34mreadr  \u001b[39m 1.3.1     \u001b[32m✔\u001b[39m \u001b[34mforcats\u001b[39m 0.5.0\n",
      "\n",
      "Warning message:\n",
      "“package ‘ggplot2’ was built under R version 4.0.1”\n",
      "Warning message:\n",
      "“package ‘tibble’ was built under R version 4.0.2”\n",
      "Warning message:\n",
      "“package ‘tidyr’ was built under R version 4.0.2”\n",
      "Warning message:\n",
      "“package ‘dplyr’ was built under R version 4.0.2”\n",
      "── \u001b[1mConflicts\u001b[22m ────────────────────────────────────────── tidyverse_conflicts() ──\n",
      "\u001b[31m✖\u001b[39m \u001b[34mdplyr\u001b[39m::\u001b[32mfilter()\u001b[39m masks \u001b[34mstats\u001b[39m::filter()\n",
      "\u001b[31m✖\u001b[39m \u001b[34mdplyr\u001b[39m::\u001b[32mlag()\u001b[39m    masks \u001b[34mstats\u001b[39m::lag()\n",
      "\n",
      "Warning message:\n",
      "“package ‘tidymodels’ was built under R version 4.0.2”\n",
      "── \u001b[1mAttaching packages\u001b[22m ────────────────────────────────────── tidymodels 0.1.1 ──\n",
      "\n",
      "\u001b[32m✔\u001b[39m \u001b[34mbroom    \u001b[39m 0.7.0      \u001b[32m✔\u001b[39m \u001b[34mrecipes  \u001b[39m 0.1.13\n",
      "\u001b[32m✔\u001b[39m \u001b[34mdials    \u001b[39m 0.0.9      \u001b[32m✔\u001b[39m \u001b[34mrsample  \u001b[39m 0.0.7 \n",
      "\u001b[32m✔\u001b[39m \u001b[34minfer    \u001b[39m 0.5.4      \u001b[32m✔\u001b[39m \u001b[34mtune     \u001b[39m 0.1.1 \n",
      "\u001b[32m✔\u001b[39m \u001b[34mmodeldata\u001b[39m 0.0.2      \u001b[32m✔\u001b[39m \u001b[34mworkflows\u001b[39m 0.2.0 \n",
      "\u001b[32m✔\u001b[39m \u001b[34mparsnip  \u001b[39m 0.1.3      \u001b[32m✔\u001b[39m \u001b[34myardstick\u001b[39m 0.0.7 \n",
      "\n",
      "Warning message:\n",
      "“package ‘broom’ was built under R version 4.0.2”\n",
      "Warning message:\n",
      "“package ‘dials’ was built under R version 4.0.2”\n",
      "Warning message:\n",
      "“package ‘infer’ was built under R version 4.0.3”\n",
      "Warning message:\n",
      "“package ‘modeldata’ was built under R version 4.0.1”\n",
      "Warning message:\n",
      "“package ‘parsnip’ was built under R version 4.0.2”\n",
      "Warning message:\n",
      "“package ‘recipes’ was built under R version 4.0.1”\n",
      "Warning message:\n",
      "“package ‘tune’ was built under R version 4.0.2”\n",
      "Warning message:\n",
      "“package ‘workflows’ was built under R version 4.0.2”\n",
      "Warning message:\n",
      "“package ‘yardstick’ was built under R version 4.0.2”\n",
      "── \u001b[1mConflicts\u001b[22m ───────────────────────────────────────── tidymodels_conflicts() ──\n",
      "\u001b[31m✖\u001b[39m \u001b[34mscales\u001b[39m::\u001b[32mdiscard()\u001b[39m masks \u001b[34mpurrr\u001b[39m::discard()\n",
      "\u001b[31m✖\u001b[39m \u001b[34mdplyr\u001b[39m::\u001b[32mfilter()\u001b[39m   masks \u001b[34mstats\u001b[39m::filter()\n",
      "\u001b[31m✖\u001b[39m \u001b[34mrecipes\u001b[39m::\u001b[32mfixed()\u001b[39m  masks \u001b[34mstringr\u001b[39m::fixed()\n",
      "\u001b[31m✖\u001b[39m \u001b[34mdplyr\u001b[39m::\u001b[32mlag()\u001b[39m      masks \u001b[34mstats\u001b[39m::lag()\n",
      "\u001b[31m✖\u001b[39m \u001b[34myardstick\u001b[39m::\u001b[32mspec()\u001b[39m masks \u001b[34mreadr\u001b[39m::spec()\n",
      "\u001b[31m✖\u001b[39m \u001b[34mrecipes\u001b[39m::\u001b[32mstep()\u001b[39m   masks \u001b[34mstats\u001b[39m::step()\n",
      "\n",
      "Parsed with column specification:\n",
      "cols(\n",
      "  age = \u001b[32mcol_double()\u001b[39m,\n",
      "  sex = \u001b[32mcol_double()\u001b[39m,\n",
      "  cp_type = \u001b[32mcol_double()\u001b[39m,\n",
      "  resting_bp = \u001b[32mcol_double()\u001b[39m,\n",
      "  cholesterol = \u001b[32mcol_double()\u001b[39m,\n",
      "  fasting_bs = \u001b[32mcol_double()\u001b[39m,\n",
      "  ECG_results = \u001b[32mcol_double()\u001b[39m,\n",
      "  max_pulse = \u001b[32mcol_double()\u001b[39m,\n",
      "  exercise_ang = \u001b[32mcol_double()\u001b[39m,\n",
      "  ST_depress = \u001b[32mcol_double()\u001b[39m,\n",
      "  slope_ST = \u001b[32mcol_double()\u001b[39m,\n",
      "  fluoroscopy = \u001b[32mcol_double()\u001b[39m,\n",
      "  thal = \u001b[32mcol_double()\u001b[39m,\n",
      "  diagnosis = \u001b[32mcol_double()\u001b[39m\n",
      ")\n",
      "\n"
     ]
    },
    {
     "data": {
      "text/html": [
       "<table>\n",
       "<caption>A spec_tbl_df: 303 × 14</caption>\n",
       "<thead>\n",
       "\t<tr><th scope=col>age</th><th scope=col>sex</th><th scope=col>cp_type</th><th scope=col>resting_bp</th><th scope=col>cholesterol</th><th scope=col>fasting_bs</th><th scope=col>ECG_results</th><th scope=col>max_pulse</th><th scope=col>exercise_ang</th><th scope=col>ST_depress</th><th scope=col>slope_ST</th><th scope=col>fluoroscopy</th><th scope=col>thal</th><th scope=col>diagnosis</th></tr>\n",
       "\t<tr><th scope=col>&lt;dbl&gt;</th><th scope=col>&lt;dbl&gt;</th><th scope=col>&lt;dbl&gt;</th><th scope=col>&lt;dbl&gt;</th><th scope=col>&lt;dbl&gt;</th><th scope=col>&lt;dbl&gt;</th><th scope=col>&lt;dbl&gt;</th><th scope=col>&lt;dbl&gt;</th><th scope=col>&lt;dbl&gt;</th><th scope=col>&lt;dbl&gt;</th><th scope=col>&lt;dbl&gt;</th><th scope=col>&lt;dbl&gt;</th><th scope=col>&lt;dbl&gt;</th><th scope=col>&lt;fct&gt;</th></tr>\n",
       "</thead>\n",
       "<tbody>\n",
       "\t<tr><td>63</td><td>1</td><td>1</td><td>145</td><td>233</td><td>1</td><td>2</td><td>150</td><td>0</td><td>2.3</td><td>3</td><td>0</td><td>6</td><td>0</td></tr>\n",
       "\t<tr><td>67</td><td>1</td><td>4</td><td>160</td><td>286</td><td>0</td><td>2</td><td>108</td><td>1</td><td>1.5</td><td>2</td><td>3</td><td>3</td><td>2</td></tr>\n",
       "\t<tr><td>67</td><td>1</td><td>4</td><td>120</td><td>229</td><td>0</td><td>2</td><td>129</td><td>1</td><td>2.6</td><td>2</td><td>2</td><td>7</td><td>1</td></tr>\n",
       "\t<tr><td>⋮</td><td>⋮</td><td>⋮</td><td>⋮</td><td>⋮</td><td>⋮</td><td>⋮</td><td>⋮</td><td>⋮</td><td>⋮</td><td>⋮</td><td>⋮</td><td>⋮</td><td>⋮</td></tr>\n",
       "\t<tr><td>57</td><td>1</td><td>4</td><td>130</td><td>131</td><td>0</td><td>0</td><td>115</td><td>1</td><td>1.2</td><td>2</td><td> 1</td><td>7</td><td>3</td></tr>\n",
       "\t<tr><td>57</td><td>0</td><td>2</td><td>130</td><td>236</td><td>0</td><td>2</td><td>174</td><td>0</td><td>0.0</td><td>2</td><td> 1</td><td>3</td><td>1</td></tr>\n",
       "\t<tr><td>38</td><td>1</td><td>3</td><td>138</td><td>175</td><td>0</td><td>0</td><td>173</td><td>0</td><td>0.0</td><td>1</td><td>NA</td><td>3</td><td>0</td></tr>\n",
       "</tbody>\n",
       "</table>\n"
      ],
      "text/latex": [
       "A spec\\_tbl\\_df: 303 × 14\n",
       "\\begin{tabular}{llllllllllllll}\n",
       " age & sex & cp\\_type & resting\\_bp & cholesterol & fasting\\_bs & ECG\\_results & max\\_pulse & exercise\\_ang & ST\\_depress & slope\\_ST & fluoroscopy & thal & diagnosis\\\\\n",
       " <dbl> & <dbl> & <dbl> & <dbl> & <dbl> & <dbl> & <dbl> & <dbl> & <dbl> & <dbl> & <dbl> & <dbl> & <dbl> & <fct>\\\\\n",
       "\\hline\n",
       "\t 63 & 1 & 1 & 145 & 233 & 1 & 2 & 150 & 0 & 2.3 & 3 & 0 & 6 & 0\\\\\n",
       "\t 67 & 1 & 4 & 160 & 286 & 0 & 2 & 108 & 1 & 1.5 & 2 & 3 & 3 & 2\\\\\n",
       "\t 67 & 1 & 4 & 120 & 229 & 0 & 2 & 129 & 1 & 2.6 & 2 & 2 & 7 & 1\\\\\n",
       "\t ⋮ & ⋮ & ⋮ & ⋮ & ⋮ & ⋮ & ⋮ & ⋮ & ⋮ & ⋮ & ⋮ & ⋮ & ⋮ & ⋮\\\\\n",
       "\t 57 & 1 & 4 & 130 & 131 & 0 & 0 & 115 & 1 & 1.2 & 2 &  1 & 7 & 3\\\\\n",
       "\t 57 & 0 & 2 & 130 & 236 & 0 & 2 & 174 & 0 & 0.0 & 2 &  1 & 3 & 1\\\\\n",
       "\t 38 & 1 & 3 & 138 & 175 & 0 & 0 & 173 & 0 & 0.0 & 1 & NA & 3 & 0\\\\\n",
       "\\end{tabular}\n"
      ],
      "text/markdown": [
       "\n",
       "A spec_tbl_df: 303 × 14\n",
       "\n",
       "| age &lt;dbl&gt; | sex &lt;dbl&gt; | cp_type &lt;dbl&gt; | resting_bp &lt;dbl&gt; | cholesterol &lt;dbl&gt; | fasting_bs &lt;dbl&gt; | ECG_results &lt;dbl&gt; | max_pulse &lt;dbl&gt; | exercise_ang &lt;dbl&gt; | ST_depress &lt;dbl&gt; | slope_ST &lt;dbl&gt; | fluoroscopy &lt;dbl&gt; | thal &lt;dbl&gt; | diagnosis &lt;fct&gt; |\n",
       "|---|---|---|---|---|---|---|---|---|---|---|---|---|---|\n",
       "| 63 | 1 | 1 | 145 | 233 | 1 | 2 | 150 | 0 | 2.3 | 3 | 0 | 6 | 0 |\n",
       "| 67 | 1 | 4 | 160 | 286 | 0 | 2 | 108 | 1 | 1.5 | 2 | 3 | 3 | 2 |\n",
       "| 67 | 1 | 4 | 120 | 229 | 0 | 2 | 129 | 1 | 2.6 | 2 | 2 | 7 | 1 |\n",
       "| ⋮ | ⋮ | ⋮ | ⋮ | ⋮ | ⋮ | ⋮ | ⋮ | ⋮ | ⋮ | ⋮ | ⋮ | ⋮ | ⋮ |\n",
       "| 57 | 1 | 4 | 130 | 131 | 0 | 0 | 115 | 1 | 1.2 | 2 |  1 | 7 | 3 |\n",
       "| 57 | 0 | 2 | 130 | 236 | 0 | 2 | 174 | 0 | 0.0 | 2 |  1 | 3 | 1 |\n",
       "| 38 | 1 | 3 | 138 | 175 | 0 | 0 | 173 | 0 | 0.0 | 1 | NA | 3 | 0 |\n",
       "\n"
      ],
      "text/plain": [
       "    age sex cp_type resting_bp cholesterol fasting_bs ECG_results max_pulse\n",
       "1   63  1   1       145        233         1          2           150      \n",
       "2   67  1   4       160        286         0          2           108      \n",
       "3   67  1   4       120        229         0          2           129      \n",
       "⋮   ⋮   ⋮   ⋮       ⋮          ⋮           ⋮          ⋮           ⋮        \n",
       "301 57  1   4       130        131         0          0           115      \n",
       "302 57  0   2       130        236         0          2           174      \n",
       "303 38  1   3       138        175         0          0           173      \n",
       "    exercise_ang ST_depress slope_ST fluoroscopy thal diagnosis\n",
       "1   0            2.3        3        0           6    0        \n",
       "2   1            1.5        2        3           3    2        \n",
       "3   1            2.6        2        2           7    1        \n",
       "⋮   ⋮            ⋮          ⋮        ⋮           ⋮    ⋮        \n",
       "301 1            1.2        2         1          7    3        \n",
       "302 0            0.0        2         1          3    1        \n",
       "303 0            0.0        1        NA          3    0        "
      ]
     },
     "metadata": {},
     "output_type": "display_data"
    }
   ],
   "source": [
    "# Set the seed for the notebook, load required libraries, and set options.\n",
    "set.seed(1248)\n",
    "library(tidyverse)\n",
    "library(tidymodels)\n",
    "library(ggplot2)\n",
    "options(repr.matrix.max.rows = 6)\n",
    "options(repr.plot.width = 15, repr.plot.height = 4)\n",
    "\n",
    "# Download and read the original dataset, mutating columns with factor variables to the correct type.\n",
    "url <- \"https://archive.ics.uci.edu/ml/machine-learning-databases/heart-disease/processed.cleveland.data\"\n",
    "download.file(url, \"data/processed_cleveland.csv\")\n",
    "cleveland_data <- read_csv(\"data/processed_cleveland.csv\", col_names = c(\"age\", \"sex\", \"cp_type\", \"resting_bp\",\n",
    "                           \"cholesterol\", \"fasting_bs\", \"ECG_results\", \"max_pulse\", \"exercise_ang\", \"ST_depress\",\n",
    "                           \"slope_ST\", \"fluoroscopy\", \"thal\", \"diagnosis\"), na = \"?\") %>%\n",
    "    mutate(diagnosis = as_factor(diagnosis))\n",
    "cleveland_data"
   ]
  },
  {
   "cell_type": "markdown",
   "metadata": {},
   "source": [
    "The outcomes 1 through 4 of the diagnosis variable all indicate the presence of heart disease, and the increasing numberical values signify the increasing severity of heart disease present. To simplify the prediction process, the factor variables selected are dummy coded as numerical values (0 or 1), meaning the diagnosis variable was mutated to ensure the outcome variable has only two possible categories: \"healthy\" or \"presence of heart disease\". Additionally, the chest pain type variable is recoded to represent asymptomatic or symptomatic cases, to simplify three varying chest pain categories into one. Lastly, ECG results are coded as 0 (normal) or 1 (abnormal), again combining two categories of abnormal results into one for simplicity of classification. This was done to ensure all factor variables were coded consistently. "
   ]
  },
  {
   "cell_type": "code",
   "execution_count": 3,
   "metadata": {},
   "outputs": [
    {
     "data": {
      "text/html": [
       "<table>\n",
       "<caption>A spec_tbl_df: 303 × 14</caption>\n",
       "<thead>\n",
       "\t<tr><th scope=col>age</th><th scope=col>sex</th><th scope=col>cp_type</th><th scope=col>resting_bp</th><th scope=col>cholesterol</th><th scope=col>fasting_bs</th><th scope=col>ECG_results</th><th scope=col>max_pulse</th><th scope=col>exercise_ang</th><th scope=col>ST_depress</th><th scope=col>slope_ST</th><th scope=col>fluoroscopy</th><th scope=col>thal</th><th scope=col>diagnosis</th></tr>\n",
       "\t<tr><th scope=col>&lt;dbl&gt;</th><th scope=col>&lt;dbl&gt;</th><th scope=col>&lt;dbl&gt;</th><th scope=col>&lt;dbl&gt;</th><th scope=col>&lt;dbl&gt;</th><th scope=col>&lt;dbl&gt;</th><th scope=col>&lt;dbl&gt;</th><th scope=col>&lt;dbl&gt;</th><th scope=col>&lt;dbl&gt;</th><th scope=col>&lt;dbl&gt;</th><th scope=col>&lt;dbl&gt;</th><th scope=col>&lt;dbl&gt;</th><th scope=col>&lt;dbl&gt;</th><th scope=col>&lt;fct&gt;</th></tr>\n",
       "</thead>\n",
       "<tbody>\n",
       "\t<tr><td>63</td><td>1</td><td>1</td><td>145</td><td>233</td><td>1</td><td>1</td><td>150</td><td>0</td><td>2.3</td><td>3</td><td>0</td><td>6</td><td>0</td></tr>\n",
       "\t<tr><td>67</td><td>1</td><td>0</td><td>160</td><td>286</td><td>0</td><td>1</td><td>108</td><td>1</td><td>1.5</td><td>2</td><td>3</td><td>3</td><td>1</td></tr>\n",
       "\t<tr><td>67</td><td>1</td><td>0</td><td>120</td><td>229</td><td>0</td><td>1</td><td>129</td><td>1</td><td>2.6</td><td>2</td><td>2</td><td>7</td><td>1</td></tr>\n",
       "\t<tr><td>⋮</td><td>⋮</td><td>⋮</td><td>⋮</td><td>⋮</td><td>⋮</td><td>⋮</td><td>⋮</td><td>⋮</td><td>⋮</td><td>⋮</td><td>⋮</td><td>⋮</td><td>⋮</td></tr>\n",
       "\t<tr><td>57</td><td>1</td><td>0</td><td>130</td><td>131</td><td>0</td><td>0</td><td>115</td><td>1</td><td>1.2</td><td>2</td><td> 1</td><td>7</td><td>1</td></tr>\n",
       "\t<tr><td>57</td><td>0</td><td>1</td><td>130</td><td>236</td><td>0</td><td>1</td><td>174</td><td>0</td><td>0.0</td><td>2</td><td> 1</td><td>3</td><td>1</td></tr>\n",
       "\t<tr><td>38</td><td>1</td><td>1</td><td>138</td><td>175</td><td>0</td><td>0</td><td>173</td><td>0</td><td>0.0</td><td>1</td><td>NA</td><td>3</td><td>0</td></tr>\n",
       "</tbody>\n",
       "</table>\n"
      ],
      "text/latex": [
       "A spec\\_tbl\\_df: 303 × 14\n",
       "\\begin{tabular}{llllllllllllll}\n",
       " age & sex & cp\\_type & resting\\_bp & cholesterol & fasting\\_bs & ECG\\_results & max\\_pulse & exercise\\_ang & ST\\_depress & slope\\_ST & fluoroscopy & thal & diagnosis\\\\\n",
       " <dbl> & <dbl> & <dbl> & <dbl> & <dbl> & <dbl> & <dbl> & <dbl> & <dbl> & <dbl> & <dbl> & <dbl> & <dbl> & <fct>\\\\\n",
       "\\hline\n",
       "\t 63 & 1 & 1 & 145 & 233 & 1 & 1 & 150 & 0 & 2.3 & 3 & 0 & 6 & 0\\\\\n",
       "\t 67 & 1 & 0 & 160 & 286 & 0 & 1 & 108 & 1 & 1.5 & 2 & 3 & 3 & 1\\\\\n",
       "\t 67 & 1 & 0 & 120 & 229 & 0 & 1 & 129 & 1 & 2.6 & 2 & 2 & 7 & 1\\\\\n",
       "\t ⋮ & ⋮ & ⋮ & ⋮ & ⋮ & ⋮ & ⋮ & ⋮ & ⋮ & ⋮ & ⋮ & ⋮ & ⋮ & ⋮\\\\\n",
       "\t 57 & 1 & 0 & 130 & 131 & 0 & 0 & 115 & 1 & 1.2 & 2 &  1 & 7 & 1\\\\\n",
       "\t 57 & 0 & 1 & 130 & 236 & 0 & 1 & 174 & 0 & 0.0 & 2 &  1 & 3 & 1\\\\\n",
       "\t 38 & 1 & 1 & 138 & 175 & 0 & 0 & 173 & 0 & 0.0 & 1 & NA & 3 & 0\\\\\n",
       "\\end{tabular}\n"
      ],
      "text/markdown": [
       "\n",
       "A spec_tbl_df: 303 × 14\n",
       "\n",
       "| age &lt;dbl&gt; | sex &lt;dbl&gt; | cp_type &lt;dbl&gt; | resting_bp &lt;dbl&gt; | cholesterol &lt;dbl&gt; | fasting_bs &lt;dbl&gt; | ECG_results &lt;dbl&gt; | max_pulse &lt;dbl&gt; | exercise_ang &lt;dbl&gt; | ST_depress &lt;dbl&gt; | slope_ST &lt;dbl&gt; | fluoroscopy &lt;dbl&gt; | thal &lt;dbl&gt; | diagnosis &lt;fct&gt; |\n",
       "|---|---|---|---|---|---|---|---|---|---|---|---|---|---|\n",
       "| 63 | 1 | 1 | 145 | 233 | 1 | 1 | 150 | 0 | 2.3 | 3 | 0 | 6 | 0 |\n",
       "| 67 | 1 | 0 | 160 | 286 | 0 | 1 | 108 | 1 | 1.5 | 2 | 3 | 3 | 1 |\n",
       "| 67 | 1 | 0 | 120 | 229 | 0 | 1 | 129 | 1 | 2.6 | 2 | 2 | 7 | 1 |\n",
       "| ⋮ | ⋮ | ⋮ | ⋮ | ⋮ | ⋮ | ⋮ | ⋮ | ⋮ | ⋮ | ⋮ | ⋮ | ⋮ | ⋮ |\n",
       "| 57 | 1 | 0 | 130 | 131 | 0 | 0 | 115 | 1 | 1.2 | 2 |  1 | 7 | 1 |\n",
       "| 57 | 0 | 1 | 130 | 236 | 0 | 1 | 174 | 0 | 0.0 | 2 |  1 | 3 | 1 |\n",
       "| 38 | 1 | 1 | 138 | 175 | 0 | 0 | 173 | 0 | 0.0 | 1 | NA | 3 | 0 |\n",
       "\n"
      ],
      "text/plain": [
       "    age sex cp_type resting_bp cholesterol fasting_bs ECG_results max_pulse\n",
       "1   63  1   1       145        233         1          1           150      \n",
       "2   67  1   0       160        286         0          1           108      \n",
       "3   67  1   0       120        229         0          1           129      \n",
       "⋮   ⋮   ⋮   ⋮       ⋮          ⋮           ⋮          ⋮           ⋮        \n",
       "301 57  1   0       130        131         0          0           115      \n",
       "302 57  0   1       130        236         0          1           174      \n",
       "303 38  1   1       138        175         0          0           173      \n",
       "    exercise_ang ST_depress slope_ST fluoroscopy thal diagnosis\n",
       "1   0            2.3        3        0           6    0        \n",
       "2   1            1.5        2        3           3    1        \n",
       "3   1            2.6        2        2           7    1        \n",
       "⋮   ⋮            ⋮          ⋮        ⋮           ⋮    ⋮        \n",
       "301 1            1.2        2         1          7    1        \n",
       "302 0            0.0        2         1          3    1        \n",
       "303 0            0.0        1        NA          3    0        "
      ]
     },
     "metadata": {},
     "output_type": "display_data"
    }
   ],
   "source": [
    "#mutate diagnosis, cp_type, and ECG_results varibles to have two categories (rather than 4 or 3)\n",
    "cleveland_data <- cleveland_data %>%\n",
    "    mutate(diagnosis = case_when(\n",
    "    str_detect(diagnosis, \"0\")~ 0,\n",
    "    str_detect(diagnosis, \"1\")~ 1,\n",
    "    str_detect(diagnosis, \"2\")~ 1,\n",
    "    str_detect(diagnosis, \"3\")~1,\n",
    "    str_detect(diagnosis, \"4\")~1), \n",
    "    cp_type = case_when(\n",
    "    str_detect(cp_type, \"4\")~ 0,\n",
    "    str_detect(cp_type, \"1\")~ 1,\n",
    "    str_detect(cp_type, \"2\")~ 1,\n",
    "    str_detect(cp_type, \"3\")~ 1), \n",
    "    ECG_results = case_when(\n",
    "    str_detect(ECG_results, \"0\")~ 0,\n",
    "    str_detect(ECG_results, \"1\")~ 1,\n",
    "    str_detect(ECG_results, \"2\")~ 1))\n",
    "\n",
    "cleveland_data$diagnosis <- as.factor(cleveland_data$diagnosis)\n",
    "\n",
    "cleveland_data"
   ]
  },
  {
   "cell_type": "markdown",
   "metadata": {},
   "source": [
    "Unused variables are removed, and the data with the remaining predictor variables is split into training and testing sets. The data was split 25/75 between the testing and training sets respectively. The training set received a larger portion of the data in favour of building the model, while the testing set received an appropriate amount of data to be able to properly evaluate the model's accuracy. The training set will be used to build a classification algorithm and predict the parameter with the highest prediction accuracy. The testing set will be used to inspect how well the model is able to predict a class (diagnosis) when given unseen data.  "
   ]
  },
  {
   "cell_type": "code",
   "execution_count": 4,
   "metadata": {},
   "outputs": [
    {
     "data": {
      "text/html": [
       "<table>\n",
       "<caption>A tibble: 228 × 8</caption>\n",
       "<thead>\n",
       "\t<tr><th scope=col>age</th><th scope=col>sex</th><th scope=col>cp_type</th><th scope=col>resting_bp</th><th scope=col>cholesterol</th><th scope=col>ECG_results</th><th scope=col>exercise_ang</th><th scope=col>diagnosis</th></tr>\n",
       "\t<tr><th scope=col>&lt;dbl&gt;</th><th scope=col>&lt;dbl&gt;</th><th scope=col>&lt;dbl&gt;</th><th scope=col>&lt;dbl&gt;</th><th scope=col>&lt;dbl&gt;</th><th scope=col>&lt;dbl&gt;</th><th scope=col>&lt;dbl&gt;</th><th scope=col>&lt;fct&gt;</th></tr>\n",
       "</thead>\n",
       "<tbody>\n",
       "\t<tr><td>63</td><td>1</td><td>1</td><td>145</td><td>233</td><td>1</td><td>0</td><td>0</td></tr>\n",
       "\t<tr><td>67</td><td>1</td><td>0</td><td>160</td><td>286</td><td>1</td><td>1</td><td>1</td></tr>\n",
       "\t<tr><td>41</td><td>0</td><td>1</td><td>130</td><td>204</td><td>1</td><td>0</td><td>0</td></tr>\n",
       "\t<tr><td>⋮</td><td>⋮</td><td>⋮</td><td>⋮</td><td>⋮</td><td>⋮</td><td>⋮</td><td>⋮</td></tr>\n",
       "\t<tr><td>57</td><td>1</td><td>0</td><td>130</td><td>131</td><td>0</td><td>1</td><td>1</td></tr>\n",
       "\t<tr><td>57</td><td>0</td><td>1</td><td>130</td><td>236</td><td>1</td><td>0</td><td>1</td></tr>\n",
       "\t<tr><td>38</td><td>1</td><td>1</td><td>138</td><td>175</td><td>0</td><td>0</td><td>0</td></tr>\n",
       "</tbody>\n",
       "</table>\n"
      ],
      "text/latex": [
       "A tibble: 228 × 8\n",
       "\\begin{tabular}{llllllll}\n",
       " age & sex & cp\\_type & resting\\_bp & cholesterol & ECG\\_results & exercise\\_ang & diagnosis\\\\\n",
       " <dbl> & <dbl> & <dbl> & <dbl> & <dbl> & <dbl> & <dbl> & <fct>\\\\\n",
       "\\hline\n",
       "\t 63 & 1 & 1 & 145 & 233 & 1 & 0 & 0\\\\\n",
       "\t 67 & 1 & 0 & 160 & 286 & 1 & 1 & 1\\\\\n",
       "\t 41 & 0 & 1 & 130 & 204 & 1 & 0 & 0\\\\\n",
       "\t ⋮ & ⋮ & ⋮ & ⋮ & ⋮ & ⋮ & ⋮ & ⋮\\\\\n",
       "\t 57 & 1 & 0 & 130 & 131 & 0 & 1 & 1\\\\\n",
       "\t 57 & 0 & 1 & 130 & 236 & 1 & 0 & 1\\\\\n",
       "\t 38 & 1 & 1 & 138 & 175 & 0 & 0 & 0\\\\\n",
       "\\end{tabular}\n"
      ],
      "text/markdown": [
       "\n",
       "A tibble: 228 × 8\n",
       "\n",
       "| age &lt;dbl&gt; | sex &lt;dbl&gt; | cp_type &lt;dbl&gt; | resting_bp &lt;dbl&gt; | cholesterol &lt;dbl&gt; | ECG_results &lt;dbl&gt; | exercise_ang &lt;dbl&gt; | diagnosis &lt;fct&gt; |\n",
       "|---|---|---|---|---|---|---|---|\n",
       "| 63 | 1 | 1 | 145 | 233 | 1 | 0 | 0 |\n",
       "| 67 | 1 | 0 | 160 | 286 | 1 | 1 | 1 |\n",
       "| 41 | 0 | 1 | 130 | 204 | 1 | 0 | 0 |\n",
       "| ⋮ | ⋮ | ⋮ | ⋮ | ⋮ | ⋮ | ⋮ | ⋮ |\n",
       "| 57 | 1 | 0 | 130 | 131 | 0 | 1 | 1 |\n",
       "| 57 | 0 | 1 | 130 | 236 | 1 | 0 | 1 |\n",
       "| 38 | 1 | 1 | 138 | 175 | 0 | 0 | 0 |\n",
       "\n"
      ],
      "text/plain": [
       "    age sex cp_type resting_bp cholesterol ECG_results exercise_ang diagnosis\n",
       "1   63  1   1       145        233         1           0            0        \n",
       "2   67  1   0       160        286         1           1            1        \n",
       "3   41  0   1       130        204         1           0            0        \n",
       "⋮   ⋮   ⋮   ⋮       ⋮          ⋮           ⋮           ⋮            ⋮        \n",
       "226 57  1   0       130        131         0           1            1        \n",
       "227 57  0   1       130        236         1           0            1        \n",
       "228 38  1   1       138        175         0           0            0        "
      ]
     },
     "metadata": {},
     "output_type": "display_data"
    }
   ],
   "source": [
    "# Select the predictors we are interested in and the prediction class variable. Split into training and testing sets.\n",
    "cleveland_data <- cleveland_data %>%\n",
    "    select(age, sex, cp_type, resting_bp, cholesterol, ECG_results, exercise_ang, diagnosis)\n",
    "cleveland_split <- initial_split(cleveland_data, prop = 3/4, strata = diagnosis)\n",
    "cleveland_train <- training(cleveland_split)\n",
    "cleveland_test <- testing(cleveland_split)\n",
    "cleveland_train"
   ]
  },
  {
   "cell_type": "markdown",
   "metadata": {},
   "source": [
    "- age: age in years\n",
    "- sex: sex (1 = male; 0 = female)\n",
    "- cp_type: chest pain type (0 = asymptomatic; 1 = symptomatic)\n",
    "- resting_bp: resting blood pressure upon admission to hospital (mm Hg)\n",
    "- cholesterol: blood cholesterol content (mg/dl)\n",
    "- ECG_results: resting ECG results (0 = normal; 1 = abnormal)\n",
    "- exercise_ang: exercise induced angina (1 = yes; 0 = no)\n",
    "- diagnosis: diagnosis of heart disease (0 = healthy; 1 = presence of heart disease)"
   ]
  },
  {
   "cell_type": "markdown",
   "metadata": {},
   "source": [
    "A tibble with proportions of each diagnostic category allows us to determine if the classes are balanced within the training data set. The Cleveland training set appears to have relatively similar proportions of each outcome category. "
   ]
  },
  {
   "cell_type": "code",
   "execution_count": 5,
   "metadata": {},
   "outputs": [
    {
     "name": "stderr",
     "output_type": "stream",
     "text": [
      "`summarise()` ungrouping output (override with `.groups` argument)\n",
      "\n"
     ]
    },
    {
     "data": {
      "text/html": [
       "<table>\n",
       "<caption>A tibble: 2 × 2</caption>\n",
       "<thead>\n",
       "\t<tr><th scope=col>diagnosis</th><th scope=col>count</th></tr>\n",
       "\t<tr><th scope=col>&lt;fct&gt;</th><th scope=col>&lt;int&gt;</th></tr>\n",
       "</thead>\n",
       "<tbody>\n",
       "\t<tr><td>0</td><td>123</td></tr>\n",
       "\t<tr><td>1</td><td>105</td></tr>\n",
       "</tbody>\n",
       "</table>\n"
      ],
      "text/latex": [
       "A tibble: 2 × 2\n",
       "\\begin{tabular}{ll}\n",
       " diagnosis & count\\\\\n",
       " <fct> & <int>\\\\\n",
       "\\hline\n",
       "\t 0 & 123\\\\\n",
       "\t 1 & 105\\\\\n",
       "\\end{tabular}\n"
      ],
      "text/markdown": [
       "\n",
       "A tibble: 2 × 2\n",
       "\n",
       "| diagnosis &lt;fct&gt; | count &lt;int&gt; |\n",
       "|---|---|\n",
       "| 0 | 123 |\n",
       "| 1 | 105 |\n",
       "\n"
      ],
      "text/plain": [
       "  diagnosis count\n",
       "1 0         123  \n",
       "2 1         105  "
      ]
     },
     "metadata": {},
     "output_type": "display_data"
    }
   ],
   "source": [
    "# Create a tibble to summarize the number of entries in each class included in the training set.\n",
    "class_count <- cleveland_train %>%\n",
    "    group_by(diagnosis) %>%\n",
    "    summarize(count = n())\n",
    "class_count"
   ]
  },
  {
   "cell_type": "markdown",
   "metadata": {},
   "source": [
    "Here, the mean value of each predictor variable is determined. The \"diagnosis\" column was removed to ensure that only the mean of predictors is being observed. "
   ]
  },
  {
   "cell_type": "code",
   "execution_count": 6,
   "metadata": {},
   "outputs": [
    {
     "data": {
      "text/html": [
       "<table>\n",
       "<caption>A tibble: 1 × 7</caption>\n",
       "<thead>\n",
       "\t<tr><th scope=col>age</th><th scope=col>sex</th><th scope=col>cp_type</th><th scope=col>resting_bp</th><th scope=col>cholesterol</th><th scope=col>ECG_results</th><th scope=col>exercise_ang</th></tr>\n",
       "\t<tr><th scope=col>&lt;dbl&gt;</th><th scope=col>&lt;dbl&gt;</th><th scope=col>&lt;dbl&gt;</th><th scope=col>&lt;dbl&gt;</th><th scope=col>&lt;dbl&gt;</th><th scope=col>&lt;dbl&gt;</th><th scope=col>&lt;dbl&gt;</th></tr>\n",
       "</thead>\n",
       "<tbody>\n",
       "\t<tr><td>54.93421</td><td>0.6622807</td><td>0.5263158</td><td>132.9518</td><td>247.2368</td><td>0.5263158</td><td>0.3157895</td></tr>\n",
       "</tbody>\n",
       "</table>\n"
      ],
      "text/latex": [
       "A tibble: 1 × 7\n",
       "\\begin{tabular}{lllllll}\n",
       " age & sex & cp\\_type & resting\\_bp & cholesterol & ECG\\_results & exercise\\_ang\\\\\n",
       " <dbl> & <dbl> & <dbl> & <dbl> & <dbl> & <dbl> & <dbl>\\\\\n",
       "\\hline\n",
       "\t 54.93421 & 0.6622807 & 0.5263158 & 132.9518 & 247.2368 & 0.5263158 & 0.3157895\\\\\n",
       "\\end{tabular}\n"
      ],
      "text/markdown": [
       "\n",
       "A tibble: 1 × 7\n",
       "\n",
       "| age &lt;dbl&gt; | sex &lt;dbl&gt; | cp_type &lt;dbl&gt; | resting_bp &lt;dbl&gt; | cholesterol &lt;dbl&gt; | ECG_results &lt;dbl&gt; | exercise_ang &lt;dbl&gt; |\n",
       "|---|---|---|---|---|---|---|\n",
       "| 54.93421 | 0.6622807 | 0.5263158 | 132.9518 | 247.2368 | 0.5263158 | 0.3157895 |\n",
       "\n"
      ],
      "text/plain": [
       "  age      sex       cp_type   resting_bp cholesterol ECG_results exercise_ang\n",
       "1 54.93421 0.6622807 0.5263158 132.9518   247.2368    0.5263158   0.3157895   "
      ]
     },
     "metadata": {},
     "output_type": "display_data"
    }
   ],
   "source": [
    "# Create a tibble to summarize the average values of the numerical predictors.\n",
    "predictors_mean <- cleveland_train %>%\n",
    "    select(-diagnosis) %>%\n",
    "    map_df(mean, na.rm = TRUE)\n",
    "predictors_mean"
   ]
  },
  {
   "cell_type": "markdown",
   "metadata": {},
   "source": [
    "The mean of each predictor variable is found again, but here they are grouped by diagnosis. Then, the means of the numerical predictors are selected."
   ]
  },
  {
   "cell_type": "code",
   "execution_count": 7,
   "metadata": {},
   "outputs": [
    {
     "name": "stderr",
     "output_type": "stream",
     "text": [
      "`summarise()` ungrouping output (override with `.groups` argument)\n",
      "\n"
     ]
    },
    {
     "data": {
      "text/html": [
       "<table>\n",
       "<caption>A tibble: 2 × 8</caption>\n",
       "<thead>\n",
       "\t<tr><th scope=col>diagnosis</th><th scope=col>mean_age</th><th scope=col>mean_sex</th><th scope=col>mean_cp_type</th><th scope=col>mean_resting_bp</th><th scope=col>mean_cholesterol</th><th scope=col>mean_ECG_results</th><th scope=col>mean_exercise_ang</th></tr>\n",
       "\t<tr><th scope=col>&lt;fct&gt;</th><th scope=col>&lt;dbl&gt;</th><th scope=col>&lt;dbl&gt;</th><th scope=col>&lt;dbl&gt;</th><th scope=col>&lt;dbl&gt;</th><th scope=col>&lt;dbl&gt;</th><th scope=col>&lt;dbl&gt;</th><th scope=col>&lt;dbl&gt;</th></tr>\n",
       "</thead>\n",
       "<tbody>\n",
       "\t<tr><td>0</td><td>53.08130</td><td>0.5528455</td><td>0.7560976</td><td>130.8049</td><td>245.1870</td><td>0.4471545</td><td>0.1219512</td></tr>\n",
       "\t<tr><td>1</td><td>57.10476</td><td>0.7904762</td><td>0.2571429</td><td>135.4667</td><td>249.6381</td><td>0.6190476</td><td>0.5428571</td></tr>\n",
       "</tbody>\n",
       "</table>\n"
      ],
      "text/latex": [
       "A tibble: 2 × 8\n",
       "\\begin{tabular}{llllllll}\n",
       " diagnosis & mean\\_age & mean\\_sex & mean\\_cp\\_type & mean\\_resting\\_bp & mean\\_cholesterol & mean\\_ECG\\_results & mean\\_exercise\\_ang\\\\\n",
       " <fct> & <dbl> & <dbl> & <dbl> & <dbl> & <dbl> & <dbl> & <dbl>\\\\\n",
       "\\hline\n",
       "\t 0 & 53.08130 & 0.5528455 & 0.7560976 & 130.8049 & 245.1870 & 0.4471545 & 0.1219512\\\\\n",
       "\t 1 & 57.10476 & 0.7904762 & 0.2571429 & 135.4667 & 249.6381 & 0.6190476 & 0.5428571\\\\\n",
       "\\end{tabular}\n"
      ],
      "text/markdown": [
       "\n",
       "A tibble: 2 × 8\n",
       "\n",
       "| diagnosis &lt;fct&gt; | mean_age &lt;dbl&gt; | mean_sex &lt;dbl&gt; | mean_cp_type &lt;dbl&gt; | mean_resting_bp &lt;dbl&gt; | mean_cholesterol &lt;dbl&gt; | mean_ECG_results &lt;dbl&gt; | mean_exercise_ang &lt;dbl&gt; |\n",
       "|---|---|---|---|---|---|---|---|\n",
       "| 0 | 53.08130 | 0.5528455 | 0.7560976 | 130.8049 | 245.1870 | 0.4471545 | 0.1219512 |\n",
       "| 1 | 57.10476 | 0.7904762 | 0.2571429 | 135.4667 | 249.6381 | 0.6190476 | 0.5428571 |\n",
       "\n"
      ],
      "text/plain": [
       "  diagnosis mean_age mean_sex  mean_cp_type mean_resting_bp mean_cholesterol\n",
       "1 0         53.08130 0.5528455 0.7560976    130.8049        245.1870        \n",
       "2 1         57.10476 0.7904762 0.2571429    135.4667        249.6381        \n",
       "  mean_ECG_results mean_exercise_ang\n",
       "1 0.4471545        0.1219512        \n",
       "2 0.6190476        0.5428571        "
      ]
     },
     "metadata": {},
     "output_type": "display_data"
    },
    {
     "name": "stderr",
     "output_type": "stream",
     "text": [
      "`summarise()` regrouping output by 'diagnosis' (override with `.groups` argument)\n",
      "\n"
     ]
    },
    {
     "data": {
      "text/html": [
       "<table>\n",
       "<caption>A grouped_df: 6 × 3</caption>\n",
       "<thead>\n",
       "\t<tr><th scope=col>diagnosis</th><th scope=col>variable</th><th scope=col>mean</th></tr>\n",
       "\t<tr><th scope=col>&lt;fct&gt;</th><th scope=col>&lt;chr&gt;</th><th scope=col>&lt;dbl&gt;</th></tr>\n",
       "</thead>\n",
       "<tbody>\n",
       "\t<tr><td>0</td><td>age        </td><td> 53.08130</td></tr>\n",
       "\t<tr><td>0</td><td>cholesterol</td><td>245.18699</td></tr>\n",
       "\t<tr><td>0</td><td>resting_bp </td><td>130.80488</td></tr>\n",
       "\t<tr><td>1</td><td>age        </td><td> 57.10476</td></tr>\n",
       "\t<tr><td>1</td><td>cholesterol</td><td>249.63810</td></tr>\n",
       "\t<tr><td>1</td><td>resting_bp </td><td>135.46667</td></tr>\n",
       "</tbody>\n",
       "</table>\n"
      ],
      "text/latex": [
       "A grouped\\_df: 6 × 3\n",
       "\\begin{tabular}{lll}\n",
       " diagnosis & variable & mean\\\\\n",
       " <fct> & <chr> & <dbl>\\\\\n",
       "\\hline\n",
       "\t 0 & age         &  53.08130\\\\\n",
       "\t 0 & cholesterol & 245.18699\\\\\n",
       "\t 0 & resting\\_bp  & 130.80488\\\\\n",
       "\t 1 & age         &  57.10476\\\\\n",
       "\t 1 & cholesterol & 249.63810\\\\\n",
       "\t 1 & resting\\_bp  & 135.46667\\\\\n",
       "\\end{tabular}\n"
      ],
      "text/markdown": [
       "\n",
       "A grouped_df: 6 × 3\n",
       "\n",
       "| diagnosis &lt;fct&gt; | variable &lt;chr&gt; | mean &lt;dbl&gt; |\n",
       "|---|---|---|\n",
       "| 0 | age         |  53.08130 |\n",
       "| 0 | cholesterol | 245.18699 |\n",
       "| 0 | resting_bp  | 130.80488 |\n",
       "| 1 | age         |  57.10476 |\n",
       "| 1 | cholesterol | 249.63810 |\n",
       "| 1 | resting_bp  | 135.46667 |\n",
       "\n"
      ],
      "text/plain": [
       "  diagnosis variable    mean     \n",
       "1 0         age          53.08130\n",
       "2 0         cholesterol 245.18699\n",
       "3 0         resting_bp  130.80488\n",
       "4 1         age          57.10476\n",
       "5 1         cholesterol 249.63810\n",
       "6 1         resting_bp  135.46667"
      ]
     },
     "metadata": {},
     "output_type": "display_data"
    }
   ],
   "source": [
    "#determining means of each predictor variable in both diagnosis categories \n",
    "predictors_means <- cleveland_train %>%\n",
    "    group_by(diagnosis)%>%\n",
    "    summarize(mean_age = mean(age), \n",
    "             mean_sex = mean(sex), \n",
    "             mean_cp_type = mean(cp_type), \n",
    "             mean_resting_bp = mean(resting_bp), \n",
    "             mean_cholesterol = mean(cholesterol), \n",
    "             mean_ECG_results = mean(ECG_results), \n",
    "             mean_exercise_ang = mean(exercise_ang))\n",
    "predictors_means\n",
    "\n",
    "#selecting just the means of numerical predictors \n",
    "numerical_predictors <- cleveland_train %>%\n",
    "    gather(\"variable\", \"value\", age, resting_bp, cholesterol) %>%\n",
    "    group_by(diagnosis, variable) %>%\n",
    "    summarise(mean=mean(value))\n",
    "numerical_predictors"
   ]
  },
  {
   "cell_type": "markdown",
   "metadata": {},
   "source": [
    "Here, the mean of the numerical predictors are plotted by diagnosis type using a bar graph."
   ]
  },
  {
   "cell_type": "code",
   "execution_count": 8,
   "metadata": {},
   "outputs": [
    {
     "data": {
      "image/png": "[encoded data removed]",
      "text/plain": [
       "plot without title"
      ]
     },
     "metadata": {
      "image/png": {
       "height": 300,
       "width": 900
      }
     },
     "output_type": "display_data"
    }
   ],
   "source": [
    "#plotting means of numerical predictors by diagnosis category\n",
    "options(repr.plot.width = 15, repr.plot.height = 5)\n",
    "\n",
    "predictor_numerical_plot <- numerical_predictors %>% \n",
    "    ggplot(aes(x = variable, y=mean, fill= factor(diagnosis,labels = c(\"Healthy\", \"Heart Disease\")))) +\n",
    "    geom_bar(alpha = 1, stat =\"identity\", position = \"dodge\") +\n",
    "    annotate(\"text\", label = \"53.08\", x = 0.775, y = 68.08, size = 5) +\n",
    "    annotate(\"text\", label = \"57.10\", x = 1.225, y = 72.10, size = 5) +\n",
    "    annotate(\"text\", label = \"245.19\", x = 1.775, y = 260.19, size = 5) +\n",
    "    annotate(\"text\", label = \"249.64\", x = 2.225, y = 264.63, size = 5) +\n",
    "    annotate(\"text\", label = \"130.80\", x = 2.775, y = 145.80, size = 5) +\n",
    "    annotate(\"text\", label = \"135.47\", x = 3.225, y = 150.47, size = 5) +\n",
    "    scale_x_discrete(labels = c(\"Age\", \"Cholesterol\", \"Resting bp\")) +\n",
    "    labs(x = \"Predictor Variables\", y = \"Mean\", fill = \"Diagnosis\", title = \"Mean of Numerical Predictors in the Heart Disease Dataset\") +\n",
    "    scale_fill_brewer(palette = \"Dark2\") +\n",
    "    theme(text = element_text(size=20))\n",
    "predictor_numerical_plot"
   ]
  },
  {
   "cell_type": "markdown",
   "metadata": {},
   "source": [
    "This plot displays the relationship between the mean of the numerical predictors and the class (diagnosis) using a bar graph."
   ]
  },
  {
   "cell_type": "markdown",
   "metadata": {},
   "source": [
    "Next, The factor variables are selected and bar plots showing proportions of these variables are created to visualize the relationship between the predictor values and diagnosis label. "
   ]
  },
  {
   "cell_type": "code",
   "execution_count": 9,
   "metadata": {},
   "outputs": [
    {
     "data": {
      "text/html": [
       "<table>\n",
       "<caption>A grouped_df: 912 × 3</caption>\n",
       "<thead>\n",
       "\t<tr><th scope=col>diagnosis</th><th scope=col>variable</th><th scope=col>value</th></tr>\n",
       "\t<tr><th scope=col>&lt;fct&gt;</th><th scope=col>&lt;chr&gt;</th><th scope=col>&lt;dbl&gt;</th></tr>\n",
       "</thead>\n",
       "<tbody>\n",
       "\t<tr><td>0</td><td>sex</td><td>1</td></tr>\n",
       "\t<tr><td>1</td><td>sex</td><td>1</td></tr>\n",
       "\t<tr><td>0</td><td>sex</td><td>0</td></tr>\n",
       "\t<tr><td>⋮</td><td>⋮</td><td>⋮</td></tr>\n",
       "\t<tr><td>1</td><td>exercise_ang</td><td>1</td></tr>\n",
       "\t<tr><td>1</td><td>exercise_ang</td><td>0</td></tr>\n",
       "\t<tr><td>0</td><td>exercise_ang</td><td>0</td></tr>\n",
       "</tbody>\n",
       "</table>\n"
      ],
      "text/latex": [
       "A grouped\\_df: 912 × 3\n",
       "\\begin{tabular}{lll}\n",
       " diagnosis & variable & value\\\\\n",
       " <fct> & <chr> & <dbl>\\\\\n",
       "\\hline\n",
       "\t 0 & sex & 1\\\\\n",
       "\t 1 & sex & 1\\\\\n",
       "\t 0 & sex & 0\\\\\n",
       "\t ⋮ & ⋮ & ⋮\\\\\n",
       "\t 1 & exercise\\_ang & 1\\\\\n",
       "\t 1 & exercise\\_ang & 0\\\\\n",
       "\t 0 & exercise\\_ang & 0\\\\\n",
       "\\end{tabular}\n"
      ],
      "text/markdown": [
       "\n",
       "A grouped_df: 912 × 3\n",
       "\n",
       "| diagnosis &lt;fct&gt; | variable &lt;chr&gt; | value &lt;dbl&gt; |\n",
       "|---|---|---|\n",
       "| 0 | sex | 1 |\n",
       "| 1 | sex | 1 |\n",
       "| 0 | sex | 0 |\n",
       "| ⋮ | ⋮ | ⋮ |\n",
       "| 1 | exercise_ang | 1 |\n",
       "| 1 | exercise_ang | 0 |\n",
       "| 0 | exercise_ang | 0 |\n",
       "\n"
      ],
      "text/plain": [
       "    diagnosis variable     value\n",
       "1   0         sex          1    \n",
       "2   1         sex          1    \n",
       "3   0         sex          0    \n",
       "⋮   ⋮         ⋮            ⋮    \n",
       "910 1         exercise_ang 1    \n",
       "911 1         exercise_ang 0    \n",
       "912 0         exercise_ang 0    "
      ]
     },
     "metadata": {},
     "output_type": "display_data"
    },
    {
     "data": {
      "image/png": "[encoded data removed]",
      "text/plain": [
       "plot without title"
      ]
     },
     "metadata": {
      "image/png": {
       "height": 300,
       "width": 900
      }
     },
     "output_type": "display_data"
    }
   ],
   "source": [
    "#selecting for factor variables and gathering values of each variable \n",
    "factor_predictors<- cleveland_train %>%\n",
    "    select(-age, -resting_bp, -cholesterol) %>%\n",
    "    gather(\"variable\", \"value\", sex, cp_type, ECG_results, exercise_ang) %>%\n",
    "    group_by(diagnosis, variable) \n",
    "   \n",
    "factor_predictors\n",
    "\n",
    "# Create a plot of the distributions of the factor predictors.\n",
    "facet_titles <- c(`cp_type` = \"Chest Pain Type\",\n",
    "                  `ECG_results` = \"ECG Results\",\n",
    "                  `exercise_ang` = \"Exercise Angina\",\n",
    "                  `sex` = \"Sex\")\n",
    "\n",
    "predictor_factor_plot <- ggplot(factor_predictors, aes(value, fill = factor(diagnosis, labels = c(\"Healthy\", \"Heart Disease\")))) +\n",
    "      geom_histogram(binwidth = 0.5) +\n",
    "      facet_wrap(~c(variable), nrow = 1, labeller = as_labeller(facet_titles)) +\n",
    "      ggtitle(\"Distribution of Factor Variables in the Heart Disease Dataset\") +\n",
    "      labs(x = \"Value\", y = \"Count\", fill =\"Diagnosis\") +\n",
    "      scale_fill_brewer(palette = \"Dark2\") +\n",
    "      scale_x_continuous(breaks = seq(0, 1, by = 1)) +\n",
    "      theme(text = element_text(size=18))\n",
    "predictor_factor_plot"
   ]
  },
  {
   "cell_type": "markdown",
   "metadata": {},
   "source": [
    "graph description!"
   ]
  },
  {
   "cell_type": "markdown",
   "metadata": {},
   "source": [
    "**should we try to change the labels (0 and 1) for each graph? this may not be possible given that 0 and 1 represent different things for each graph**"
   ]
  },
  {
   "cell_type": "markdown",
   "metadata": {},
   "source": [
    "**<p style = \"font-size:18pt; font-style:bold\"> Data Analysis </p>**"
   ]
  },
  {
   "cell_type": "markdown",
   "metadata": {},
   "source": [
    "First of all, the training data is standardized and centered. This is done to make sure the data is consistent and to ensure each variable has the same scale, so that larger scales do not have more of an impact on KNN assignment. This will give all variables an average of 0 and a standard deviation of 1. This also ensures that different variables may be compared if needed. "
   ]
  },
  {
   "cell_type": "code",
   "execution_count": 10,
   "metadata": {},
   "outputs": [
    {
     "data": {
      "text/plain": [
       "Data Recipe\n",
       "\n",
       "Inputs:\n",
       "\n",
       "      role #variables\n",
       "   outcome          1\n",
       " predictor          7\n",
       "\n",
       "Operations:\n",
       "\n",
       "Scaling for all_predictors()\n",
       "Centering for all_predictors()"
      ]
     },
     "metadata": {},
     "output_type": "display_data"
    }
   ],
   "source": [
    "#Build recipe with predictor and outcome varibles, standardize training data \n",
    "\n",
    "cleveland_recipe <- recipe(diagnosis~ ., data=cleveland_train) %>%\n",
    "    step_scale(all_predictors()) %>%\n",
    "    step_center(all_predictors()) \n",
    "cleveland_recipe"
   ]
  },
  {
   "cell_type": "markdown",
   "metadata": {},
   "source": [
    "A model specification is created. here, it is indicated that all data points will be weighed equally, the computational engine is kknn, and that we will be building a classification model. Additionally, instead of specifying a given parameter, we are tuning the model with many K values to determine which K value will give the model the highest accuracy. "
   ]
  },
  {
   "cell_type": "code",
   "execution_count": 11,
   "metadata": {},
   "outputs": [
    {
     "data": {
      "text/plain": [
       "K-Nearest Neighbor Model Specification (classification)\n",
       "\n",
       "Main Arguments:\n",
       "  neighbors = tune()\n",
       "  weight_func = rectangular\n",
       "\n",
       "Computational engine: kknn \n"
      ]
     },
     "metadata": {},
     "output_type": "display_data"
    }
   ],
   "source": [
    "#create a model specification\n",
    "knn_tune <- nearest_neighbor (weight_func = \"rectangular\", neighbors = tune()) %>%\n",
    "    set_engine (\"kknn\") %>%\n",
    "    set_mode (\"classification\")\n",
    "knn_tune"
   ]
  },
  {
   "cell_type": "markdown",
   "metadata": {},
   "source": [
    "Here, 5-fold cross validation is performed. Different K values are being evaluated using exclusively the training data. "
   ]
  },
  {
   "cell_type": "code",
   "execution_count": 12,
   "metadata": {},
   "outputs": [],
   "source": [
    "#perform 5-fold cross validaion \n",
    "cleveland_vfold <- vfold_cv(cleveland_train, v = 5, strata = diagnosis)"
   ]
  },
  {
   "cell_type": "markdown",
   "metadata": {},
   "source": [
    "Cross validation is run on each validation split within the training data. A workflow analysis is created to combine the new knn_tune model specification with the recipe. The tune_grid() function was used to fit the model for every paramater value. The collect_metrics() function aggregrates the standard error and the mean."
   ]
  },
  {
   "cell_type": "code",
   "execution_count": 13,
   "metadata": {},
   "outputs": [
    {
     "data": {
      "text/html": [
       "<table>\n",
       "<caption>A tibble: 30 × 7</caption>\n",
       "<thead>\n",
       "\t<tr><th scope=col>neighbors</th><th scope=col>.metric</th><th scope=col>.estimator</th><th scope=col>mean</th><th scope=col>n</th><th scope=col>std_err</th><th scope=col>.config</th></tr>\n",
       "\t<tr><th scope=col>&lt;int&gt;</th><th scope=col>&lt;chr&gt;</th><th scope=col>&lt;chr&gt;</th><th scope=col>&lt;dbl&gt;</th><th scope=col>&lt;int&gt;</th><th scope=col>&lt;dbl&gt;</th><th scope=col>&lt;chr&gt;</th></tr>\n",
       "</thead>\n",
       "<tbody>\n",
       "\t<tr><td>1</td><td>accuracy</td><td>binary</td><td>0.6974879</td><td>5</td><td>0.01948388</td><td>Model01</td></tr>\n",
       "\t<tr><td>1</td><td>roc_auc </td><td>binary</td><td>0.6976190</td><td>5</td><td>0.01911639</td><td>Model01</td></tr>\n",
       "\t<tr><td>2</td><td>accuracy</td><td>binary</td><td>0.6974879</td><td>5</td><td>0.01948388</td><td>Model02</td></tr>\n",
       "\t<tr><td>⋮</td><td>⋮</td><td>⋮</td><td>⋮</td><td>⋮</td><td>⋮</td><td>⋮</td></tr>\n",
       "\t<tr><td>14</td><td>roc_auc </td><td>binary</td><td>0.8223889</td><td>5</td><td>0.02200085</td><td>Model14</td></tr>\n",
       "\t<tr><td>15</td><td>accuracy</td><td>binary</td><td>0.7413527</td><td>5</td><td>0.02183639</td><td>Model15</td></tr>\n",
       "\t<tr><td>15</td><td>roc_auc </td><td>binary</td><td>0.8329127</td><td>5</td><td>0.02120818</td><td>Model15</td></tr>\n",
       "</tbody>\n",
       "</table>\n"
      ],
      "text/latex": [
       "A tibble: 30 × 7\n",
       "\\begin{tabular}{lllllll}\n",
       " neighbors & .metric & .estimator & mean & n & std\\_err & .config\\\\\n",
       " <int> & <chr> & <chr> & <dbl> & <int> & <dbl> & <chr>\\\\\n",
       "\\hline\n",
       "\t 1 & accuracy & binary & 0.6974879 & 5 & 0.01948388 & Model01\\\\\n",
       "\t 1 & roc\\_auc  & binary & 0.6976190 & 5 & 0.01911639 & Model01\\\\\n",
       "\t 2 & accuracy & binary & 0.6974879 & 5 & 0.01948388 & Model02\\\\\n",
       "\t ⋮ & ⋮ & ⋮ & ⋮ & ⋮ & ⋮ & ⋮\\\\\n",
       "\t 14 & roc\\_auc  & binary & 0.8223889 & 5 & 0.02200085 & Model14\\\\\n",
       "\t 15 & accuracy & binary & 0.7413527 & 5 & 0.02183639 & Model15\\\\\n",
       "\t 15 & roc\\_auc  & binary & 0.8329127 & 5 & 0.02120818 & Model15\\\\\n",
       "\\end{tabular}\n"
      ],
      "text/markdown": [
       "\n",
       "A tibble: 30 × 7\n",
       "\n",
       "| neighbors &lt;int&gt; | .metric &lt;chr&gt; | .estimator &lt;chr&gt; | mean &lt;dbl&gt; | n &lt;int&gt; | std_err &lt;dbl&gt; | .config &lt;chr&gt; |\n",
       "|---|---|---|---|---|---|---|\n",
       "| 1 | accuracy | binary | 0.6974879 | 5 | 0.01948388 | Model01 |\n",
       "| 1 | roc_auc  | binary | 0.6976190 | 5 | 0.01911639 | Model01 |\n",
       "| 2 | accuracy | binary | 0.6974879 | 5 | 0.01948388 | Model02 |\n",
       "| ⋮ | ⋮ | ⋮ | ⋮ | ⋮ | ⋮ | ⋮ |\n",
       "| 14 | roc_auc  | binary | 0.8223889 | 5 | 0.02200085 | Model14 |\n",
       "| 15 | accuracy | binary | 0.7413527 | 5 | 0.02183639 | Model15 |\n",
       "| 15 | roc_auc  | binary | 0.8329127 | 5 | 0.02120818 | Model15 |\n",
       "\n"
      ],
      "text/plain": [
       "   neighbors .metric  .estimator mean      n std_err    .config\n",
       "1  1         accuracy binary     0.6974879 5 0.01948388 Model01\n",
       "2  1         roc_auc  binary     0.6976190 5 0.01911639 Model01\n",
       "3  2         accuracy binary     0.6974879 5 0.01948388 Model02\n",
       "⋮  ⋮         ⋮        ⋮          ⋮         ⋮ ⋮          ⋮      \n",
       "28 14        roc_auc  binary     0.8223889 5 0.02200085 Model14\n",
       "29 15        accuracy binary     0.7413527 5 0.02183639 Model15\n",
       "30 15        roc_auc  binary     0.8329127 5 0.02120818 Model15"
      ]
     },
     "metadata": {},
     "output_type": "display_data"
    }
   ],
   "source": [
    "#train model with the training data set and run cross validation on each validation split\n",
    "gridvals = tibble(neighbors = seq(1,15))\n",
    "\n",
    "cleveland_results <- workflow() %>%\n",
    "    add_recipe(cleveland_recipe) %>%\n",
    "    add_model(knn_tune)%>%\n",
    "    tune_grid(resamples = cleveland_vfold, grid = gridvals) %>%\n",
    "    collect_metrics()\n",
    "\n",
    "cleveland_results"
   ]
  },
  {
   "cell_type": "markdown",
   "metadata": {},
   "source": [
    "Here, we determine the best value for K by plotting accuracy by K-value. A line graph is used to visualize the accuracy of different K-values in predicting a diagnosis. Just by looking a the plot, we can see that K = 9 and K = 10 have the highest accuracies. "
   ]
  },
  {
   "cell_type": "code",
   "execution_count": 14,
   "metadata": {},
   "outputs": [
    {
     "data": {
      "text/html": [
       "<table>\n",
       "<caption>A tibble: 15 × 7</caption>\n",
       "<thead>\n",
       "\t<tr><th scope=col>neighbors</th><th scope=col>.metric</th><th scope=col>.estimator</th><th scope=col>mean</th><th scope=col>n</th><th scope=col>std_err</th><th scope=col>.config</th></tr>\n",
       "\t<tr><th scope=col>&lt;int&gt;</th><th scope=col>&lt;chr&gt;</th><th scope=col>&lt;chr&gt;</th><th scope=col>&lt;dbl&gt;</th><th scope=col>&lt;int&gt;</th><th scope=col>&lt;dbl&gt;</th><th scope=col>&lt;chr&gt;</th></tr>\n",
       "</thead>\n",
       "<tbody>\n",
       "\t<tr><td>1</td><td>accuracy</td><td>binary</td><td>0.6974879</td><td>5</td><td>0.01948388</td><td>Model01</td></tr>\n",
       "\t<tr><td>2</td><td>accuracy</td><td>binary</td><td>0.6974879</td><td>5</td><td>0.01948388</td><td>Model02</td></tr>\n",
       "\t<tr><td>3</td><td>accuracy</td><td>binary</td><td>0.7325604</td><td>5</td><td>0.02495982</td><td>Model03</td></tr>\n",
       "\t<tr><td>⋮</td><td>⋮</td><td>⋮</td><td>⋮</td><td>⋮</td><td>⋮</td><td>⋮</td></tr>\n",
       "\t<tr><td>13</td><td>accuracy</td><td>binary</td><td>0.7544928</td><td>5</td><td>0.01700277</td><td>Model13</td></tr>\n",
       "\t<tr><td>14</td><td>accuracy</td><td>binary</td><td>0.7544928</td><td>5</td><td>0.01700277</td><td>Model14</td></tr>\n",
       "\t<tr><td>15</td><td>accuracy</td><td>binary</td><td>0.7413527</td><td>5</td><td>0.02183639</td><td>Model15</td></tr>\n",
       "</tbody>\n",
       "</table>\n"
      ],
      "text/latex": [
       "A tibble: 15 × 7\n",
       "\\begin{tabular}{lllllll}\n",
       " neighbors & .metric & .estimator & mean & n & std\\_err & .config\\\\\n",
       " <int> & <chr> & <chr> & <dbl> & <int> & <dbl> & <chr>\\\\\n",
       "\\hline\n",
       "\t 1 & accuracy & binary & 0.6974879 & 5 & 0.01948388 & Model01\\\\\n",
       "\t 2 & accuracy & binary & 0.6974879 & 5 & 0.01948388 & Model02\\\\\n",
       "\t 3 & accuracy & binary & 0.7325604 & 5 & 0.02495982 & Model03\\\\\n",
       "\t ⋮ & ⋮ & ⋮ & ⋮ & ⋮ & ⋮ & ⋮\\\\\n",
       "\t 13 & accuracy & binary & 0.7544928 & 5 & 0.01700277 & Model13\\\\\n",
       "\t 14 & accuracy & binary & 0.7544928 & 5 & 0.01700277 & Model14\\\\\n",
       "\t 15 & accuracy & binary & 0.7413527 & 5 & 0.02183639 & Model15\\\\\n",
       "\\end{tabular}\n"
      ],
      "text/markdown": [
       "\n",
       "A tibble: 15 × 7\n",
       "\n",
       "| neighbors &lt;int&gt; | .metric &lt;chr&gt; | .estimator &lt;chr&gt; | mean &lt;dbl&gt; | n &lt;int&gt; | std_err &lt;dbl&gt; | .config &lt;chr&gt; |\n",
       "|---|---|---|---|---|---|---|\n",
       "| 1 | accuracy | binary | 0.6974879 | 5 | 0.01948388 | Model01 |\n",
       "| 2 | accuracy | binary | 0.6974879 | 5 | 0.01948388 | Model02 |\n",
       "| 3 | accuracy | binary | 0.7325604 | 5 | 0.02495982 | Model03 |\n",
       "| ⋮ | ⋮ | ⋮ | ⋮ | ⋮ | ⋮ | ⋮ |\n",
       "| 13 | accuracy | binary | 0.7544928 | 5 | 0.01700277 | Model13 |\n",
       "| 14 | accuracy | binary | 0.7544928 | 5 | 0.01700277 | Model14 |\n",
       "| 15 | accuracy | binary | 0.7413527 | 5 | 0.02183639 | Model15 |\n",
       "\n"
      ],
      "text/plain": [
       "   neighbors .metric  .estimator mean      n std_err    .config\n",
       "1  1         accuracy binary     0.6974879 5 0.01948388 Model01\n",
       "2  2         accuracy binary     0.6974879 5 0.01948388 Model02\n",
       "3  3         accuracy binary     0.7325604 5 0.02495982 Model03\n",
       "⋮  ⋮         ⋮        ⋮          ⋮         ⋮ ⋮          ⋮      \n",
       "13 13        accuracy binary     0.7544928 5 0.01700277 Model13\n",
       "14 14        accuracy binary     0.7544928 5 0.01700277 Model14\n",
       "15 15        accuracy binary     0.7413527 5 0.02183639 Model15"
      ]
     },
     "metadata": {},
     "output_type": "display_data"
    },
    {
     "data": {
      "image/png": "[encoded data removed]",
      "text/plain": [
       "plot without title"
      ]
     },
     "metadata": {
      "image/png": {
       "height": 420,
       "width": 600
      }
     },
     "output_type": "display_data"
    }
   ],
   "source": [
    "#select parameter with greatest accuracy \n",
    "\n",
    "accuracies <- cleveland_results %>%\n",
    "    filter(.metric == \"accuracy\")\n",
    "accuracies \n",
    "\n",
    "options(repr.plot.width = 10, repr.plot.height = 7)\n",
    "accuracy_plot <- accuracies %>%\n",
    "    ggplot(aes (x = neighbors, y = mean)) +\n",
    "    geom_point() +\n",
    "    geom_line() +\n",
    "    labs (x = \"Neighbors (k)\", y = \"Accuracy Estimate\") +\n",
    "    theme(text = element_text(size=17)) +\n",
    "    scale_x_continuous(breaks = seq(0, 20, by = 1)) + \n",
    "    scale_y_continuous(limits = c(0.6, 0.8)) \n",
    "accuracy_plot"
   ]
  },
  {
   "cell_type": "markdown",
   "metadata": {},
   "source": [
    "Visually, we know that K = 9 and K = 10 give the highest accuracies, but it is necessary to check if one gives a higher accuracy than the other. Here, the mean and K-values are selected and arranged in descending order. Now, we can see that indeed K = 9 and K = 10 both give the same accuracy. However, we can only choose one value for K. We are going to use K = 9 to avoid overfitting the model."
   ]
  },
  {
   "cell_type": "code",
   "execution_count": 15,
   "metadata": {},
   "outputs": [
    {
     "data": {
      "text/html": [
       "<table>\n",
       "<caption>A tibble: 6 × 2</caption>\n",
       "<thead>\n",
       "\t<tr><th scope=col>mean</th><th scope=col>neighbors</th></tr>\n",
       "\t<tr><th scope=col>&lt;dbl&gt;</th><th scope=col>&lt;int&gt;</th></tr>\n",
       "</thead>\n",
       "<tbody>\n",
       "\t<tr><td>0.7631884</td><td> 9</td></tr>\n",
       "\t<tr><td>0.7631884</td><td>10</td></tr>\n",
       "\t<tr><td>0.7544928</td><td>13</td></tr>\n",
       "\t<tr><td>0.7544928</td><td>14</td></tr>\n",
       "\t<tr><td>0.7501449</td><td> 7</td></tr>\n",
       "\t<tr><td>0.7501449</td><td> 8</td></tr>\n",
       "</tbody>\n",
       "</table>\n"
      ],
      "text/latex": [
       "A tibble: 6 × 2\n",
       "\\begin{tabular}{ll}\n",
       " mean & neighbors\\\\\n",
       " <dbl> & <int>\\\\\n",
       "\\hline\n",
       "\t 0.7631884 &  9\\\\\n",
       "\t 0.7631884 & 10\\\\\n",
       "\t 0.7544928 & 13\\\\\n",
       "\t 0.7544928 & 14\\\\\n",
       "\t 0.7501449 &  7\\\\\n",
       "\t 0.7501449 &  8\\\\\n",
       "\\end{tabular}\n"
      ],
      "text/markdown": [
       "\n",
       "A tibble: 6 × 2\n",
       "\n",
       "| mean &lt;dbl&gt; | neighbors &lt;int&gt; |\n",
       "|---|---|\n",
       "| 0.7631884 |  9 |\n",
       "| 0.7631884 | 10 |\n",
       "| 0.7544928 | 13 |\n",
       "| 0.7544928 | 14 |\n",
       "| 0.7501449 |  7 |\n",
       "| 0.7501449 |  8 |\n",
       "\n"
      ],
      "text/plain": [
       "  mean      neighbors\n",
       "1 0.7631884  9       \n",
       "2 0.7631884 10       \n",
       "3 0.7544928 13       \n",
       "4 0.7544928 14       \n",
       "5 0.7501449  7       \n",
       "6 0.7501449  8       "
      ]
     },
     "metadata": {},
     "output_type": "display_data"
    }
   ],
   "source": [
    "#selecting best parameter value \n",
    "knn_best <- accuracies %>% \n",
    "    select(mean, neighbors) %>%\n",
    "    arrange(desc(mean))\n",
    "head(knn_best)"
   ]
  },
  {
   "cell_type": "markdown",
   "metadata": {},
   "source": [
    "Another model specification is built, but this time we specify that K = 9 must be used in the model. The training data is then fit to the new model specification. "
   ]
  },
  {
   "cell_type": "code",
   "execution_count": 16,
   "metadata": {},
   "outputs": [
    {
     "data": {
      "text/plain": [
       "══ Workflow [trained] ══════════════════════════════════════════════════════════\n",
       "\u001b[3mPreprocessor:\u001b[23m Recipe\n",
       "\u001b[3mModel:\u001b[23m nearest_neighbor()\n",
       "\n",
       "── Preprocessor ────────────────────────────────────────────────────────────────\n",
       "2 Recipe Steps\n",
       "\n",
       "● step_scale()\n",
       "● step_center()\n",
       "\n",
       "── Model ───────────────────────────────────────────────────────────────────────\n",
       "\n",
       "Call:\n",
       "kknn::train.kknn(formula = ..y ~ ., data = data, ks = ~9, kernel = ~\"rectangular\")\n",
       "\n",
       "Type of response variable: nominal\n",
       "Minimal misclassification: 0.2719298\n",
       "Best kernel: rectangular\n",
       "Best k: 9"
      ]
     },
     "metadata": {},
     "output_type": "display_data"
    }
   ],
   "source": [
    "#build model specification with best value for K and fit training data with new model specification\n",
    "\n",
    "knn_spec <- nearest_neighbor(weight_func = \"rectangular\", neighbors = 9) %>%\n",
    "    set_engine(\"kknn\") %>%\n",
    "    set_mode(\"classification\")\n",
    "\n",
    "cleveland_fit <- workflow() %>%\n",
    "    add_recipe(cleveland_recipe) %>%\n",
    "    add_model(knn_spec) %>%\n",
    "    fit(data = cleveland_train)\n",
    "cleveland_fit"
   ]
  },
  {
   "cell_type": "markdown",
   "metadata": {},
   "source": [
    "Finally, it is time to use the finished model to make predictions on new observations, that is, the testing set. Our model has an accuracy of approximately 81%  when predicting unknown diagnoses."
   ]
  },
  {
   "cell_type": "code",
   "execution_count": 17,
   "metadata": {},
   "outputs": [
    {
     "data": {
      "text/html": [
       "<table>\n",
       "<caption>A tibble: 75 × 9</caption>\n",
       "<thead>\n",
       "\t<tr><th scope=col>.pred_class</th><th scope=col>age</th><th scope=col>sex</th><th scope=col>cp_type</th><th scope=col>resting_bp</th><th scope=col>cholesterol</th><th scope=col>ECG_results</th><th scope=col>exercise_ang</th><th scope=col>diagnosis</th></tr>\n",
       "\t<tr><th scope=col>&lt;fct&gt;</th><th scope=col>&lt;dbl&gt;</th><th scope=col>&lt;dbl&gt;</th><th scope=col>&lt;dbl&gt;</th><th scope=col>&lt;dbl&gt;</th><th scope=col>&lt;dbl&gt;</th><th scope=col>&lt;dbl&gt;</th><th scope=col>&lt;dbl&gt;</th><th scope=col>&lt;fct&gt;</th></tr>\n",
       "</thead>\n",
       "<tbody>\n",
       "\t<tr><td>1</td><td>67</td><td>1</td><td>0</td><td>120</td><td>229</td><td>1</td><td>1</td><td>1</td></tr>\n",
       "\t<tr><td>0</td><td>37</td><td>1</td><td>1</td><td>130</td><td>250</td><td>0</td><td>0</td><td>0</td></tr>\n",
       "\t<tr><td>1</td><td>53</td><td>1</td><td>0</td><td>140</td><td>203</td><td>1</td><td>1</td><td>1</td></tr>\n",
       "\t<tr><td>⋮</td><td>⋮</td><td>⋮</td><td>⋮</td><td>⋮</td><td>⋮</td><td>⋮</td><td>⋮</td><td>⋮</td></tr>\n",
       "\t<tr><td>0</td><td>35</td><td>1</td><td>1</td><td>122</td><td>192</td><td>0</td><td>0</td><td>0</td></tr>\n",
       "\t<tr><td>1</td><td>63</td><td>1</td><td>0</td><td>140</td><td>187</td><td>1</td><td>1</td><td>1</td></tr>\n",
       "\t<tr><td>1</td><td>68</td><td>1</td><td>0</td><td>144</td><td>193</td><td>0</td><td>0</td><td>1</td></tr>\n",
       "</tbody>\n",
       "</table>\n"
      ],
      "text/latex": [
       "A tibble: 75 × 9\n",
       "\\begin{tabular}{lllllllll}\n",
       " .pred\\_class & age & sex & cp\\_type & resting\\_bp & cholesterol & ECG\\_results & exercise\\_ang & diagnosis\\\\\n",
       " <fct> & <dbl> & <dbl> & <dbl> & <dbl> & <dbl> & <dbl> & <dbl> & <fct>\\\\\n",
       "\\hline\n",
       "\t 1 & 67 & 1 & 0 & 120 & 229 & 1 & 1 & 1\\\\\n",
       "\t 0 & 37 & 1 & 1 & 130 & 250 & 0 & 0 & 0\\\\\n",
       "\t 1 & 53 & 1 & 0 & 140 & 203 & 1 & 1 & 1\\\\\n",
       "\t ⋮ & ⋮ & ⋮ & ⋮ & ⋮ & ⋮ & ⋮ & ⋮ & ⋮\\\\\n",
       "\t 0 & 35 & 1 & 1 & 122 & 192 & 0 & 0 & 0\\\\\n",
       "\t 1 & 63 & 1 & 0 & 140 & 187 & 1 & 1 & 1\\\\\n",
       "\t 1 & 68 & 1 & 0 & 144 & 193 & 0 & 0 & 1\\\\\n",
       "\\end{tabular}\n"
      ],
      "text/markdown": [
       "\n",
       "A tibble: 75 × 9\n",
       "\n",
       "| .pred_class &lt;fct&gt; | age &lt;dbl&gt; | sex &lt;dbl&gt; | cp_type &lt;dbl&gt; | resting_bp &lt;dbl&gt; | cholesterol &lt;dbl&gt; | ECG_results &lt;dbl&gt; | exercise_ang &lt;dbl&gt; | diagnosis &lt;fct&gt; |\n",
       "|---|---|---|---|---|---|---|---|---|\n",
       "| 1 | 67 | 1 | 0 | 120 | 229 | 1 | 1 | 1 |\n",
       "| 0 | 37 | 1 | 1 | 130 | 250 | 0 | 0 | 0 |\n",
       "| 1 | 53 | 1 | 0 | 140 | 203 | 1 | 1 | 1 |\n",
       "| ⋮ | ⋮ | ⋮ | ⋮ | ⋮ | ⋮ | ⋮ | ⋮ | ⋮ |\n",
       "| 0 | 35 | 1 | 1 | 122 | 192 | 0 | 0 | 0 |\n",
       "| 1 | 63 | 1 | 0 | 140 | 187 | 1 | 1 | 1 |\n",
       "| 1 | 68 | 1 | 0 | 144 | 193 | 0 | 0 | 1 |\n",
       "\n"
      ],
      "text/plain": [
       "   .pred_class age sex cp_type resting_bp cholesterol ECG_results exercise_ang\n",
       "1  1           67  1   0       120        229         1           1           \n",
       "2  0           37  1   1       130        250         0           0           \n",
       "3  1           53  1   0       140        203         1           1           \n",
       "⋮  ⋮           ⋮   ⋮   ⋮       ⋮          ⋮           ⋮           ⋮           \n",
       "73 0           35  1   1       122        192         0           0           \n",
       "74 1           63  1   0       140        187         1           1           \n",
       "75 1           68  1   0       144        193         0           0           \n",
       "   diagnosis\n",
       "1  1        \n",
       "2  0        \n",
       "3  1        \n",
       "⋮  ⋮        \n",
       "73 0        \n",
       "74 1        \n",
       "75 1        "
      ]
     },
     "metadata": {},
     "output_type": "display_data"
    },
    {
     "data": {
      "text/html": [
       "<table>\n",
       "<caption>A tibble: 2 × 3</caption>\n",
       "<thead>\n",
       "\t<tr><th scope=col>.metric</th><th scope=col>.estimator</th><th scope=col>.estimate</th></tr>\n",
       "\t<tr><th scope=col>&lt;chr&gt;</th><th scope=col>&lt;chr&gt;</th><th scope=col>&lt;dbl&gt;</th></tr>\n",
       "</thead>\n",
       "<tbody>\n",
       "\t<tr><td>accuracy</td><td>binary</td><td>0.8133333</td></tr>\n",
       "\t<tr><td>kap     </td><td>binary</td><td>0.6252677</td></tr>\n",
       "</tbody>\n",
       "</table>\n"
      ],
      "text/latex": [
       "A tibble: 2 × 3\n",
       "\\begin{tabular}{lll}\n",
       " .metric & .estimator & .estimate\\\\\n",
       " <chr> & <chr> & <dbl>\\\\\n",
       "\\hline\n",
       "\t accuracy & binary & 0.8133333\\\\\n",
       "\t kap      & binary & 0.6252677\\\\\n",
       "\\end{tabular}\n"
      ],
      "text/markdown": [
       "\n",
       "A tibble: 2 × 3\n",
       "\n",
       "| .metric &lt;chr&gt; | .estimator &lt;chr&gt; | .estimate &lt;dbl&gt; |\n",
       "|---|---|---|\n",
       "| accuracy | binary | 0.8133333 |\n",
       "| kap      | binary | 0.6252677 |\n",
       "\n"
      ],
      "text/plain": [
       "  .metric  .estimator .estimate\n",
       "1 accuracy binary     0.8133333\n",
       "2 kap      binary     0.6252677"
      ]
     },
     "metadata": {},
     "output_type": "display_data"
    },
    {
     "data": {
      "text/plain": [
       "          Truth\n",
       "Prediction  0  1\n",
       "         0 33  6\n",
       "         1  8 28"
      ]
     },
     "metadata": {},
     "output_type": "display_data"
    }
   ],
   "source": [
    "#Make predictions using testing data set \n",
    "cleveland_predictions <- predict(cleveland_fit, cleveland_test) %>%\n",
    "    bind_cols(cleveland_test)\n",
    "cleveland_predictions\n",
    "\n",
    "cleveland_metrics <- cleveland_predictions %>%\n",
    "    metrics(truth = diagnosis, estimate = .pred_class)\n",
    "cleveland_metrics\n",
    "\n",
    "cleveland_conf_mat <- cleveland_predictions %>%\n",
    "    conf_mat(truth = diagnosis, estimate = .pred_class)\n",
    "cleveland_conf_mat"
   ]
  },
  {
   "cell_type": "markdown",
   "metadata": {},
   "source": [
    "Using the testing data predictions, a confusion matrix plot is created. This plot shows the performance of our classification model. Out of 75 predictions made on the testing set, 61 of those predictions were correct, with 8 false positives and 6 false negatives. "
   ]
  },
  {
   "cell_type": "code",
   "execution_count": 19,
   "metadata": {},
   "outputs": [
    {
     "data": {
      "image/png": "[encoded data removed]",
      "text/plain": [
       "plot without title"
      ]
     },
     "metadata": {
      "image/png": {
       "height": 480,
       "width": 480
      }
     },
     "output_type": "display_data"
    }
   ],
   "source": [
    "Truth <- factor(c(1, 1, 0, 0))\n",
    "Prediction <- factor(c(0, 1, 0, 1))\n",
    "Y <- c(6, 28, 33, 8)\n",
    "df<- data.frame(Truth, Prediction, Y)\n",
    "\n",
    "options(repr.plot.width = 8, repr.plot.height = 8)\n",
    "cleveland_matrix_plot <- ggplot(data = df, mapping = aes(x = Truth, y = Prediction)) +\n",
    "    geom_tile(aes(fill = Y), colour = \"white\") +\n",
    "    geom_label(aes(label=Y), size = 5) +\n",
    "    scale_fill_gradient(low = \"grey\", high = \"purple\") +\n",
    "    scale_x_discrete(labels = c(\"1\" = \"Heart Disease\", \"0\" = \"Healthy\")) +\n",
    "    scale_y_discrete(labels = c(\"1\" = \"Heart Disease\", \"0\" = \"Healthy\")) +\n",
    "    theme_bw() + theme(legend.position=\"none\") +\n",
    "    labs(x = \"Truth\", y = \"Prediction\", title=\"Confusion Matrix Plot using Test Data Predictions\") +\n",
    "    theme(text = element_text(size=16)) \n",
    "    \n",
    "cleveland_matrix_plot"
   ]
  },
  {
   "cell_type": "markdown",
   "metadata": {},
   "source": [
    "**<p style = \"font-size:18pt; font-style:bold\"> Discussion </p>**"
   ]
  },
  {
   "cell_type": "markdown",
   "metadata": {},
   "source": [
    "Our final classification model was able to accurately predict the presence of heart disease in a new patient with roughly a 81% accuracy. The model uses related predictors, such as age, sex, resting blood pressure and cholesterol levels, to determine if a patient has heart disease. This classification model can help aid the beginning stages of the diagnosis process. By being able to predict the presence of heart disease based on related predictors the classification model can help identify patients with heart disease with less rigourous and potentially expensive testing. This will be beneficial to aid in ease of diagnosis for patients with heart disease, which could potentially help diagnose more people early on in the progression. Through the use of the classification model, some questions may arise such as, which predictors relate the most to the presence of heart disease? And is there one predictor that is stronger than others in accurately predicting the presence of heart disease?"
   ]
  },
  {
   "cell_type": "markdown",
   "metadata": {},
   "source": [
    "**<p style = \"font-size:18pt; font-style:bold\"> References </p>**"
   ]
  },
  {
   "cell_type": "markdown",
   "metadata": {},
   "source": [
    "Detrano, R., Janosi, A., Steinbrunn, W., Pfisterer, M., Schmid, J., Sandhu, S., Guppy, K., Lee, S., and Froelicher, V. (1989). International application of a new probability algorithm for the diagnosis of coronary artery disease. *The Americal Journal of Cardiology,* 64, 304–310. https://doi.org/10.1016/0002-9149(89)90524-9 \n",
    "\n",
    "Maas, A. H. E. M. & Appelman, Y. E. A. (2011). Gender differences in coronary heart disease. *Netherlands Heart Journal,* 18, 589 - 602. https://doi.org/10.1007/s12471-010-0841-y\n",
    "\n",
    "Robson, J., Ayerbe, L., Mathur, R., Addo, J., & Wragg, A. (2015). Clinical value of chest pain presentation and prodromes on the assessment of cardiovascular disease: a cohort study. *BJM Open,* 5, 1-6. https://doi.org/10.1136/bmjopen-2014-007251\n",
    "\n",
    "Whincup, P. H., Wannamethee, G., Macfarlane, P. W., Walker, M. & Shaper, G. A. (1995). Resting electrocardiogram and risk of coronary heart disease in middle-ages British men. *Journal of Cardiovascular Risk,* 2, 533-543. https://doi.org/10.1177/174182679500200608\n",
    "\n",
    "\n",
    "World Health Organization. (2021). *Cardiovascular Diseases (CVDs)*. Retreived from https://www.who.int/news-room/fact-sheets/detail/cardiovascular-diseases-(cvds)\n",
    "\n",
    "\n",
    "Yusuf, S., Reddy, S., Ounpuu, S. & Anand, S. (2001) Global Burden of Cardiovascular Diseases: Part I: General Considerations, the Epidemiologic Transition, Risk Factors, and Impact of Urbanization. *Circulation,* 104, 2746-2753. https://doi.org/10.1161/hc4601.099487\n"
   ]
  }
 ],
 "metadata": {
  "kernelspec": {
   "display_name": "R",
   "language": "R",
   "name": "ir"
  },
  "language_info": {
   "codemirror_mode": "r",
   "file_extension": ".r",
   "mimetype": "text/x-r-source",
   "name": "R",
   "pygments_lexer": "r",
   "version": "4.0.0"
  }
 },
 "nbformat": 4,
 "nbformat_minor": 4
}
